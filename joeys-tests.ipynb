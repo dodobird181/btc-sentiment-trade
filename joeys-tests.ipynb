{
 "cells": [
  {
   "cell_type": "code",
   "execution_count": 4,
   "metadata": {},
   "outputs": [],
   "source": [
    "import cryptocompare\n",
    "import pandas as pd\n",
    "import json\n",
    "from datetime import datetime, timedelta\n",
    "import blankly\n",
    "import matplotlib.pyplot as plt\n",
    "\n",
    "# mount personal drive\n",
    "\n",
    "BACKTEST_DATA_LOCATION ='/content/gdrive/My Drive/Colab Notebooks/Algo Trading/data/btc_sentiments.json'\n",
    "START_DATE = '2017-08-01'\n",
    "END_DATE = '2024-08-01'"
   ]
  },
  {
   "cell_type": "code",
   "execution_count": 3,
   "metadata": {},
   "outputs": [
    {
     "name": "stdout",
     "output_type": "stream",
     "text": [
      "Collecting 2557 days of historical BTC data..\n",
      "There are 2557 days left to collect!\n",
      "There are 2192 days left to collect!\n",
      "There are 1827 days left to collect!\n",
      "There are 1462 days left to collect!\n",
      "There are 1097 days left to collect!\n",
      "There are 732 days left to collect!\n",
      "There are 367 days left to collect!\n",
      "There are 2 days left to collect!\n",
      "min: 1501459200\n",
      "max: 1722384000\n",
      "start time epoch: 1501567200.0\n",
      "end time epoch: 1722492000.0\n"
     ]
    }
   ],
   "source": [
    "def download_btc_price_data(\n",
    "        start_date, \n",
    "        end_date, \n",
    "        output_filename='btc_price_data', \n",
    "        verbose=False\n",
    "        ):\n",
    "\n",
    "    start_date = datetime.fromisoformat(start_date).date()\n",
    "    end_date = datetime.fromisoformat(end_date).date()\n",
    "\n",
    "    # Make sure start date is before end, if not then switch them\n",
    "    if start_date > end_date:\n",
    "        tmp = start_date\n",
    "        start_date = end_date\n",
    "        end_date = tmp\n",
    "\n",
    "    if start_date == end_date:\n",
    "        raise ValueError(\"start_date cannot be the same as the end date\")\n",
    "\n",
    "    start_time_epoch = datetime.combine(start_date, datetime.min.time()).timestamp()\n",
    "    end_time_epoch = datetime.combine(end_date, datetime.min.time()).timestamp()\n",
    "\n",
    "    btc_hist_df = None\n",
    "    current_date = start_date\n",
    "    total_days_needed = (end_date - start_date).days\n",
    "\n",
    "    if verbose:\n",
    "        print(f'Collecting {total_days_needed} days of historical BTC data..')\n",
    "\n",
    "    while total_days_needed > 0:\n",
    "    # max 1 year allowed per request on free tier, send multiple requests instead\n",
    "        limit_days = min(total_days_needed, 365)\n",
    "        to_ts = datetime.combine(current_date + timedelta(days=limit_days - 1), datetime.min.time()).timestamp()  # End of current chunk\n",
    "        partial_btc_data = cryptocompare.get_historical_price_day(\n",
    "            # grab historical data from cryptocompare library\n",
    "            coin='BTC',\n",
    "            currency='USD',\n",
    "            limit=limit_days,\n",
    "            toTs=int(to_ts),\n",
    "        )\n",
    "        if verbose:\n",
    "            print(f'There are {total_days_needed} days left to collect!')\n",
    "\n",
    "        if btc_hist_df is None:\n",
    "            btc_hist_df = pd.DataFrame(partial_btc_data)\n",
    "        else:\n",
    "            btc_hist_df = pd.concat([btc_hist_df, pd.DataFrame(partial_btc_data)], axis=0)\n",
    "\n",
    "        # increment current_date and deincrement total_days_needed\n",
    "        current_date += timedelta(days=limit_days)\n",
    "        total_days_needed -= limit_days\n",
    "\n",
    "    btc_hist_df = btc_hist_df[['time', 'low', 'high', 'open', 'close', 'volumefrom']]\n",
    "    btc_hist_df.columns = ['time', 'low', 'high', 'open', 'close', 'volume']\n",
    "    btc_hist_df = btc_hist_df.drop_duplicates(subset=['time'], keep='first')\n",
    "    btc_hist_df.to_csv(f'{output_filename}.csv', index=False)\n",
    "\n",
    "    if verbose:\n",
    "        print(f'min: {btc_hist_df[\"time\"].min()}')\n",
    "        print(f'max: {btc_hist_df[\"time\"].max()}')\n",
    "        print(f'start time epoch: {start_time_epoch}')\n",
    "        print(f'end time epoch: {end_time_epoch}') "
   ]
  },
  {
   "cell_type": "code",
   "execution_count": null,
   "metadata": {},
   "outputs": [],
   "source": [
    "if test is True:\n"
   ]
  }
 ],
 "metadata": {
  "kernelspec": {
   "display_name": "Python 3",
   "language": "python",
   "name": "python3"
  },
  "language_info": {
   "codemirror_mode": {
    "name": "ipython",
    "version": 3
   },
   "file_extension": ".py",
   "mimetype": "text/x-python",
   "name": "python",
   "nbconvert_exporter": "python",
   "pygments_lexer": "ipython3",
   "version": "3.11.6"
  }
 },
 "nbformat": 4,
 "nbformat_minor": 2
}
