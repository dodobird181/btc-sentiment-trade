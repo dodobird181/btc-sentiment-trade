{
 "cells": [
  {
   "cell_type": "code",
   "execution_count": 9,
   "metadata": {},
   "outputs": [
    {
     "name": "stderr",
     "output_type": "stream",
     "text": [
      "[*********************100%***********************]  1 of 1 completed"
     ]
    },
    {
     "name": "stdout",
     "output_type": "stream",
     "text": [
      "               Open          High           Low         Close     Adj Close  \\\n",
      "count   3661.000000   3661.000000   3661.000000   3661.000000   3661.000000   \n",
      "mean   17891.124849  18297.036224  17458.487336  17907.430947  17907.430947   \n",
      "std    19695.560629  20134.704913  19215.924636  19706.558870  19706.558870   \n",
      "min      176.897003    211.731003    171.509995    178.102997    178.102997   \n",
      "25%     1167.300049   1187.219971   1130.199951   1167.540039   1167.540039   \n",
      "50%     9173.040039   9317.878906   8987.049805   9180.962891   9180.962891   \n",
      "75%    29245.515625  29675.552734  28885.335938  29268.806641  29268.806641   \n",
      "max    73079.375000  73750.070312  71334.093750  73083.500000  73083.500000   \n",
      "\n",
      "             Volume  \n",
      "count  3.661000e+03  \n",
      "mean   1.764127e+10  \n",
      "std    1.917022e+10  \n",
      "min    5.914570e+06  \n",
      "25%    2.978050e+08  \n",
      "50%    1.381136e+10  \n",
      "75%    2.859533e+10  \n",
      "max    3.509679e+11  \n"
     ]
    },
    {
     "name": "stderr",
     "output_type": "stream",
     "text": [
      "\n"
     ]
    }
   ],
   "source": [
    "import yfinance as yf\n",
    "import pandas as pd\n",
    "\n",
    "btc_data: pd.DataFrame = yf.download(\"BTC-USD\")\n",
    "btc_data.to_csv('btc_data.csv')\n",
    "\n",
    "print(btc_data.describe())\n",
    "\n"
   ]
  },
  {
   "cell_type": "code",
   "execution_count": null,
   "metadata": {},
   "outputs": [],
   "source": []
  }
 ],
 "metadata": {
  "kernelspec": {
   "display_name": ".venv",
   "language": "python",
   "name": "python3"
  },
  "language_info": {
   "codemirror_mode": {
    "name": "ipython",
    "version": 3
   },
   "file_extension": ".py",
   "mimetype": "text/x-python",
   "name": "python",
   "nbconvert_exporter": "python",
   "pygments_lexer": "ipython3",
   "version": "3.12.5"
  }
 },
 "nbformat": 4,
 "nbformat_minor": 2
}
